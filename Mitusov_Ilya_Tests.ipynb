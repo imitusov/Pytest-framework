{
 "cells": [
  {
   "cell_type": "code",
   "execution_count": 2,
   "metadata": {
    "collapsed": false
   },
   "outputs": [],
   "source": [
    "import pandas as pd\n",
    "import seaborn as sns\n",
    "import numpy as np\n",
    "import numpy.testing as tt"
   ]
  },
  {
   "cell_type": "code",
   "execution_count": 3,
   "metadata": {
    "collapsed": false
   },
   "outputs": [],
   "source": [
    "from sklearn.svm import SVC"
   ]
  },
  {
   "cell_type": "code",
   "execution_count": 4,
   "metadata": {
    "collapsed": true
   },
   "outputs": [],
   "source": [
    "# Данные для примера\n",
    "\n",
    "x_train = pd.DataFrame([[-2, -1], [-1, -1], [-1, -2], [1, 1], [1, 2], [2, 1]])\n",
    "y_train = pd.DataFrame([1, 1, 1, 2, 2, 2])\n",
    "x_test = pd.DataFrame([[-1, -1], [2, 2], [3, 2]])\n",
    "y_test = pd.DataFrame([1, 2, 2])"
   ]
  },
  {
   "cell_type": "code",
   "execution_count": 5,
   "metadata": {
    "collapsed": false
   },
   "outputs": [],
   "source": [
    "def test_parametrs():\n",
    "    \n",
    "    ''' Проверяем параметры модели '''\n",
    "    \n",
    "    clf = SVC(kernel='linear').fit(x_train, y_train)\n",
    "    tt.assert_array_equal(clf.dual_coef_, [[-0.25, 0.25]])\n",
    "    tt.assert_array_equal(clf.support_, [1, 3])\n",
    "    tt.assert_array_equal(clf.support_vectors_, (x_train[1], x_train[3]))\n",
    "    tt.assert_array_equal(clf.intercept_, [0])\n",
    "    tt.assert_array_equal(clf.predict(x_train), y_train)"
   ]
  },
  {
   "cell_type": "code",
   "execution_count": 6,
   "metadata": {
    "collapsed": true
   },
   "outputs": [],
   "source": [
    "def test_model_unfitted():\n",
    "    \n",
    "    ''' проверяем, обучена ли модель '''\n",
    "    \n",
    "    clf = svm.SVC()\n",
    "    tt.assert_raises_regex(Exception, r'This SVC instance is not fitted yet', \n",
    "                           clf.predict, x_test)"
   ]
  },
  {
   "cell_type": "code",
   "execution_count": 7,
   "metadata": {
    "collapsed": false
   },
   "outputs": [],
   "source": [
    "def test_bad_input():\n",
    "    \n",
    "    ''' проверяем, что используются допустимые значения параметров '''\n",
    "    \n",
    "    clf = svm.SVC(C=-1)\n",
    "    tt.assert_raises(ValueError, clf.fit, x_train, y_train)"
   ]
  },
  {
   "cell_type": "code",
   "execution_count": 8,
   "metadata": {
    "collapsed": true
   },
   "outputs": [],
   "source": [
    "def test_weight():\n",
    "    \n",
    "    ''' Проверяем веса модели '''\n",
    "    \n",
    "    clf = svm.SVC(class_weight={1: 0.1})\n",
    "    clf.fit(x_train, y_train)\n",
    "    tt.assert_array_almost_equal(clf.predict(x_train), [2] * 6)"
   ]
  },
  {
   "cell_type": "code",
   "execution_count": 9,
   "metadata": {
    "collapsed": true
   },
   "outputs": [],
   "source": [
    "def test_sparse():\n",
    "    \n",
    "    ''' Проверяем является ли матрица в sparse формате '''\n",
    "    \n",
    "    tt.assert_equal(scipy.sparse.issparse(x_train), False)"
   ]
  }
 ],
 "metadata": {
  "kernelspec": {
   "display_name": "Python 3",
   "language": "python",
   "name": "python3"
  },
  "language_info": {
   "codemirror_mode": {
    "name": "ipython",
    "version": 3
   },
   "file_extension": ".py",
   "mimetype": "text/x-python",
   "name": "python",
   "nbconvert_exporter": "python",
   "pygments_lexer": "ipython3",
   "version": "3.6.0"
  }
 },
 "nbformat": 4,
 "nbformat_minor": 2
}
